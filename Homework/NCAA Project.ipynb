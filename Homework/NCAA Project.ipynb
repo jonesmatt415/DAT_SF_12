{
 "metadata": {
  "name": "",
  "signature": "sha256:786f1a893846ceeccec154a0259e0f979235aa5e39e028549d6be26435aa3a05"
 },
 "nbformat": 3,
 "nbformat_minor": 0,
 "worksheets": [
  {
   "cells": [
    {
     "cell_type": "markdown",
     "metadata": {},
     "source": [
      "D"
     ]
    },
    {
     "cell_type": "code",
     "collapsed": false,
     "input": [],
     "language": "python",
     "metadata": {},
     "outputs": []
    }
   ],
   "metadata": {}
  }
 ]
}