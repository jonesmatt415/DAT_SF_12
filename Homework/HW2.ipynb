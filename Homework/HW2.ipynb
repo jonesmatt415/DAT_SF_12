{
 "metadata": {
  "name": "",
  "signature": "sha256:a98a989c4355ecc807f7002164e217577624d632c076b1b5495d0b19c0c4638c"
 },
 "nbformat": 3,
 "nbformat_minor": 0,
 "worksheets": [
  {
   "cells": [
    {
     "cell_type": "markdown",
     "metadata": {},
     "source": [
      "## Homework 2 (Due - Feb'17th) - practice Supervised (KNN) and Un-Supervised (Clustering):\n",
      "\n",
      "Follow the steps below to:\n",
      "    - Read `wine.csv` in the data folder.\n",
      "    - We are going to use this dataset to practice Supervised (KNN) and Un-Supervised (Clustering)\n",
      "    \n",
      "### Supervised (KNN)\n",
      "\n",
      "    - Split the data into Train and Test (30%) using random_state of 42 (so that we all get same results)\n",
      "    - Using KNN, can you predict the Wine class in test\n",
      "    - How Accurate is your prediction\n",
      "    \n",
      "### Un-Supervised (Clustering)\n",
      "    - The First Column contains the Wine Category.  Don't use it in the models below.  We are going to treat it as unsupervized learning and compare the results to the Wine column.\n",
      "    - Try `KMeans` where `n_clusters = 3` and compare the clusters to the `Wine` column.\n",
      "    - Try `Hierarchical Clustering` and plot dendogram\n",
      "    - Compare the results of `KMeans` with that of Wine Column.  Is Clustering identifying the Wine groups correctly? \n",
      "\n",
      "Note that the Wine group codes will not match between Clustering and Wine Category.  What we are looking for is does all the wines in the cluster fall into the same Wine Category)."
     ]
    },
    {
     "cell_type": "code",
     "collapsed": false,
     "input": [
      "%matplotlib inline"
     ],
     "language": "python",
     "metadata": {},
     "outputs": [],
     "prompt_number": 1
    },
    {
     "cell_type": "code",
     "collapsed": false,
     "input": [
      "from __future__ import division\n",
      "\n",
      "import warnings\n",
      "\n",
      "import matplotlib\n",
      "\n",
      "import numpy as np\n",
      "import pandas as pd\n",
      "import seaborn as sns\n",
      "import statsmodels.api as sm\n",
      "\n",
      "from matplotlib.pylab import poly_between\n",
      "from scipy import stats\n",
      "from scipy.stats import binom\n",
      "from scipy.stats import t as tdist\n",
      "from seaborn import plt\n",
      "from sympy import Eq, S, init_printing\n",
      "from sympy.stats import Binomial, Die, P, density, sample, sample_iter\n",
      "\n",
      "warnings.filterwarnings('ignore')\n",
      "\n",
      "init_printing()"
     ],
     "language": "python",
     "metadata": {},
     "outputs": [],
     "prompt_number": 2
    },
    {
     "cell_type": "code",
     "collapsed": false,
     "input": [
      "wine = pd.read_csv('C:\\GADS\\DAT_SF_12\\data\\wine.csv', index_col=0)\n",
      "wine.head()"
     ],
     "language": "python",
     "metadata": {},
     "outputs": [
      {
       "html": [
        "<div style=\"max-height:1000px;max-width:1500px;overflow:auto;\">\n",
        "<table border=\"1\" class=\"dataframe\">\n",
        "  <thead>\n",
        "    <tr style=\"text-align: right;\">\n",
        "      <th></th>\n",
        "      <th>Alcohol</th>\n",
        "      <th>Malic.acid</th>\n",
        "      <th>Ash</th>\n",
        "      <th>Acl</th>\n",
        "      <th>Mg</th>\n",
        "      <th>Phenols</th>\n",
        "      <th>Flavanoids</th>\n",
        "      <th>Nonflavanoid.phenols</th>\n",
        "      <th>Proanth</th>\n",
        "      <th>Color.int</th>\n",
        "      <th>Hue</th>\n",
        "      <th>OD</th>\n",
        "      <th>Proline</th>\n",
        "    </tr>\n",
        "    <tr>\n",
        "      <th>Wine</th>\n",
        "      <th></th>\n",
        "      <th></th>\n",
        "      <th></th>\n",
        "      <th></th>\n",
        "      <th></th>\n",
        "      <th></th>\n",
        "      <th></th>\n",
        "      <th></th>\n",
        "      <th></th>\n",
        "      <th></th>\n",
        "      <th></th>\n",
        "      <th></th>\n",
        "      <th></th>\n",
        "    </tr>\n",
        "  </thead>\n",
        "  <tbody>\n",
        "    <tr>\n",
        "      <th>1</th>\n",
        "      <td> 14.23</td>\n",
        "      <td> 1.71</td>\n",
        "      <td> 2.43</td>\n",
        "      <td> 15.6</td>\n",
        "      <td> 127</td>\n",
        "      <td> 2.80</td>\n",
        "      <td> 3.06</td>\n",
        "      <td> 0.28</td>\n",
        "      <td> 2.29</td>\n",
        "      <td> 5.64</td>\n",
        "      <td> 1.04</td>\n",
        "      <td> 3.92</td>\n",
        "      <td> 1065</td>\n",
        "    </tr>\n",
        "    <tr>\n",
        "      <th>1</th>\n",
        "      <td> 13.20</td>\n",
        "      <td> 1.78</td>\n",
        "      <td> 2.14</td>\n",
        "      <td> 11.2</td>\n",
        "      <td> 100</td>\n",
        "      <td> 2.65</td>\n",
        "      <td> 2.76</td>\n",
        "      <td> 0.26</td>\n",
        "      <td> 1.28</td>\n",
        "      <td> 4.38</td>\n",
        "      <td> 1.05</td>\n",
        "      <td> 3.40</td>\n",
        "      <td> 1050</td>\n",
        "    </tr>\n",
        "    <tr>\n",
        "      <th>1</th>\n",
        "      <td> 13.16</td>\n",
        "      <td> 2.36</td>\n",
        "      <td> 2.67</td>\n",
        "      <td> 18.6</td>\n",
        "      <td> 101</td>\n",
        "      <td> 2.80</td>\n",
        "      <td> 3.24</td>\n",
        "      <td> 0.30</td>\n",
        "      <td> 2.81</td>\n",
        "      <td> 5.68</td>\n",
        "      <td> 1.03</td>\n",
        "      <td> 3.17</td>\n",
        "      <td> 1185</td>\n",
        "    </tr>\n",
        "    <tr>\n",
        "      <th>1</th>\n",
        "      <td> 14.37</td>\n",
        "      <td> 1.95</td>\n",
        "      <td> 2.50</td>\n",
        "      <td> 16.8</td>\n",
        "      <td> 113</td>\n",
        "      <td> 3.85</td>\n",
        "      <td> 3.49</td>\n",
        "      <td> 0.24</td>\n",
        "      <td> 2.18</td>\n",
        "      <td> 7.80</td>\n",
        "      <td> 0.86</td>\n",
        "      <td> 3.45</td>\n",
        "      <td> 1480</td>\n",
        "    </tr>\n",
        "    <tr>\n",
        "      <th>1</th>\n",
        "      <td> 13.24</td>\n",
        "      <td> 2.59</td>\n",
        "      <td> 2.87</td>\n",
        "      <td> 21.0</td>\n",
        "      <td> 118</td>\n",
        "      <td> 2.80</td>\n",
        "      <td> 2.69</td>\n",
        "      <td> 0.39</td>\n",
        "      <td> 1.82</td>\n",
        "      <td> 4.32</td>\n",
        "      <td> 1.04</td>\n",
        "      <td> 2.93</td>\n",
        "      <td>  735</td>\n",
        "    </tr>\n",
        "  </tbody>\n",
        "</table>\n",
        "</div>"
       ],
       "metadata": {},
       "output_type": "pyout",
       "prompt_number": 3,
       "text": [
        "      Alcohol  Malic.acid   Ash   Acl   Mg  Phenols  Flavanoids  \\\n",
        "Wine                                                              \n",
        "1       14.23        1.71  2.43  15.6  127     2.80        3.06   \n",
        "1       13.20        1.78  2.14  11.2  100     2.65        2.76   \n",
        "1       13.16        2.36  2.67  18.6  101     2.80        3.24   \n",
        "1       14.37        1.95  2.50  16.8  113     3.85        3.49   \n",
        "1       13.24        2.59  2.87  21.0  118     2.80        2.69   \n",
        "\n",
        "      Nonflavanoid.phenols  Proanth  Color.int   Hue    OD  Proline  \n",
        "Wine                                                                 \n",
        "1                     0.28     2.29       5.64  1.04  3.92     1065  \n",
        "1                     0.26     1.28       4.38  1.05  3.40     1050  \n",
        "1                     0.30     2.81       5.68  1.03  3.17     1185  \n",
        "1                     0.24     2.18       7.80  0.86  3.45     1480  \n",
        "1                     0.39     1.82       4.32  1.04  2.93      735  "
       ]
      }
     ],
     "prompt_number": 3
    },
    {
     "cell_type": "code",
     "collapsed": false,
     "input": [
      "from matplotlib.colors import ListedColormap\n",
      "from sklearn import neighbors, datasets, feature_selection\n",
      "from sklearn.cross_validation import train_test_split, cross_val_score"
     ],
     "language": "python",
     "metadata": {},
     "outputs": [],
     "prompt_number": 4
    },
    {
     "cell_type": "code",
     "collapsed": false,
     "input": [
      "wine.describe()"
     ],
     "language": "python",
     "metadata": {},
     "outputs": [
      {
       "html": [
        "<div style=\"max-height:1000px;max-width:1500px;overflow:auto;\">\n",
        "<table border=\"1\" class=\"dataframe\">\n",
        "  <thead>\n",
        "    <tr style=\"text-align: right;\">\n",
        "      <th></th>\n",
        "      <th>Alcohol</th>\n",
        "      <th>Malic.acid</th>\n",
        "      <th>Ash</th>\n",
        "      <th>Acl</th>\n",
        "      <th>Mg</th>\n",
        "      <th>Phenols</th>\n",
        "      <th>Flavanoids</th>\n",
        "      <th>Nonflavanoid.phenols</th>\n",
        "      <th>Proanth</th>\n",
        "      <th>Color.int</th>\n",
        "      <th>Hue</th>\n",
        "      <th>OD</th>\n",
        "      <th>Proline</th>\n",
        "    </tr>\n",
        "  </thead>\n",
        "  <tbody>\n",
        "    <tr>\n",
        "      <th>count</th>\n",
        "      <td> 178.000000</td>\n",
        "      <td> 178.000000</td>\n",
        "      <td> 178.000000</td>\n",
        "      <td> 178.000000</td>\n",
        "      <td> 178.000000</td>\n",
        "      <td> 178.000000</td>\n",
        "      <td> 178.000000</td>\n",
        "      <td> 178.000000</td>\n",
        "      <td> 178.000000</td>\n",
        "      <td> 178.000000</td>\n",
        "      <td> 178.000000</td>\n",
        "      <td> 178.000000</td>\n",
        "      <td>  178.000000</td>\n",
        "    </tr>\n",
        "    <tr>\n",
        "      <th>mean</th>\n",
        "      <td>  13.000618</td>\n",
        "      <td>   2.336348</td>\n",
        "      <td>   2.366517</td>\n",
        "      <td>  19.494944</td>\n",
        "      <td>  99.741573</td>\n",
        "      <td>   2.295112</td>\n",
        "      <td>   2.029270</td>\n",
        "      <td>   0.361854</td>\n",
        "      <td>   1.590899</td>\n",
        "      <td>   5.058090</td>\n",
        "      <td>   0.957449</td>\n",
        "      <td>   2.611685</td>\n",
        "      <td>  746.893258</td>\n",
        "    </tr>\n",
        "    <tr>\n",
        "      <th>std</th>\n",
        "      <td>   0.811827</td>\n",
        "      <td>   1.117146</td>\n",
        "      <td>   0.274344</td>\n",
        "      <td>   3.339564</td>\n",
        "      <td>  14.282484</td>\n",
        "      <td>   0.625851</td>\n",
        "      <td>   0.998859</td>\n",
        "      <td>   0.124453</td>\n",
        "      <td>   0.572359</td>\n",
        "      <td>   2.318286</td>\n",
        "      <td>   0.228572</td>\n",
        "      <td>   0.709990</td>\n",
        "      <td>  314.907474</td>\n",
        "    </tr>\n",
        "    <tr>\n",
        "      <th>min</th>\n",
        "      <td>  11.030000</td>\n",
        "      <td>   0.740000</td>\n",
        "      <td>   1.360000</td>\n",
        "      <td>  10.600000</td>\n",
        "      <td>  70.000000</td>\n",
        "      <td>   0.980000</td>\n",
        "      <td>   0.340000</td>\n",
        "      <td>   0.130000</td>\n",
        "      <td>   0.410000</td>\n",
        "      <td>   1.280000</td>\n",
        "      <td>   0.480000</td>\n",
        "      <td>   1.270000</td>\n",
        "      <td>  278.000000</td>\n",
        "    </tr>\n",
        "    <tr>\n",
        "      <th>25%</th>\n",
        "      <td>  12.362500</td>\n",
        "      <td>   1.602500</td>\n",
        "      <td>   2.210000</td>\n",
        "      <td>  17.200000</td>\n",
        "      <td>  88.000000</td>\n",
        "      <td>   1.742500</td>\n",
        "      <td>   1.205000</td>\n",
        "      <td>   0.270000</td>\n",
        "      <td>   1.250000</td>\n",
        "      <td>   3.220000</td>\n",
        "      <td>   0.782500</td>\n",
        "      <td>   1.937500</td>\n",
        "      <td>  500.500000</td>\n",
        "    </tr>\n",
        "    <tr>\n",
        "      <th>50%</th>\n",
        "      <td>  13.050000</td>\n",
        "      <td>   1.865000</td>\n",
        "      <td>   2.360000</td>\n",
        "      <td>  19.500000</td>\n",
        "      <td>  98.000000</td>\n",
        "      <td>   2.355000</td>\n",
        "      <td>   2.135000</td>\n",
        "      <td>   0.340000</td>\n",
        "      <td>   1.555000</td>\n",
        "      <td>   4.690000</td>\n",
        "      <td>   0.965000</td>\n",
        "      <td>   2.780000</td>\n",
        "      <td>  673.500000</td>\n",
        "    </tr>\n",
        "    <tr>\n",
        "      <th>75%</th>\n",
        "      <td>  13.677500</td>\n",
        "      <td>   3.082500</td>\n",
        "      <td>   2.557500</td>\n",
        "      <td>  21.500000</td>\n",
        "      <td> 107.000000</td>\n",
        "      <td>   2.800000</td>\n",
        "      <td>   2.875000</td>\n",
        "      <td>   0.437500</td>\n",
        "      <td>   1.950000</td>\n",
        "      <td>   6.200000</td>\n",
        "      <td>   1.120000</td>\n",
        "      <td>   3.170000</td>\n",
        "      <td>  985.000000</td>\n",
        "    </tr>\n",
        "    <tr>\n",
        "      <th>max</th>\n",
        "      <td>  14.830000</td>\n",
        "      <td>   5.800000</td>\n",
        "      <td>   3.230000</td>\n",
        "      <td>  30.000000</td>\n",
        "      <td> 162.000000</td>\n",
        "      <td>   3.880000</td>\n",
        "      <td>   5.080000</td>\n",
        "      <td>   0.660000</td>\n",
        "      <td>   3.580000</td>\n",
        "      <td>  13.000000</td>\n",
        "      <td>   1.710000</td>\n",
        "      <td>   4.000000</td>\n",
        "      <td> 1680.000000</td>\n",
        "    </tr>\n",
        "  </tbody>\n",
        "</table>\n",
        "</div>"
       ],
       "metadata": {},
       "output_type": "pyout",
       "prompt_number": 5,
       "text": [
        "          Alcohol  Malic.acid         Ash         Acl          Mg     Phenols  \\\n",
        "count  178.000000  178.000000  178.000000  178.000000  178.000000  178.000000   \n",
        "mean    13.000618    2.336348    2.366517   19.494944   99.741573    2.295112   \n",
        "std      0.811827    1.117146    0.274344    3.339564   14.282484    0.625851   \n",
        "min     11.030000    0.740000    1.360000   10.600000   70.000000    0.980000   \n",
        "25%     12.362500    1.602500    2.210000   17.200000   88.000000    1.742500   \n",
        "50%     13.050000    1.865000    2.360000   19.500000   98.000000    2.355000   \n",
        "75%     13.677500    3.082500    2.557500   21.500000  107.000000    2.800000   \n",
        "max     14.830000    5.800000    3.230000   30.000000  162.000000    3.880000   \n",
        "\n",
        "       Flavanoids  Nonflavanoid.phenols     Proanth   Color.int         Hue  \\\n",
        "count  178.000000            178.000000  178.000000  178.000000  178.000000   \n",
        "mean     2.029270              0.361854    1.590899    5.058090    0.957449   \n",
        "std      0.998859              0.124453    0.572359    2.318286    0.228572   \n",
        "min      0.340000              0.130000    0.410000    1.280000    0.480000   \n",
        "25%      1.205000              0.270000    1.250000    3.220000    0.782500   \n",
        "50%      2.135000              0.340000    1.555000    4.690000    0.965000   \n",
        "75%      2.875000              0.437500    1.950000    6.200000    1.120000   \n",
        "max      5.080000              0.660000    3.580000   13.000000    1.710000   \n",
        "\n",
        "               OD      Proline  \n",
        "count  178.000000   178.000000  \n",
        "mean     2.611685   746.893258  \n",
        "std      0.709990   314.907474  \n",
        "min      1.270000   278.000000  \n",
        "25%      1.937500   500.500000  \n",
        "50%      2.780000   673.500000  \n",
        "75%      3.170000   985.000000  \n",
        "max      4.000000  1680.000000  "
       ]
      }
     ],
     "prompt_number": 5
    },
    {
     "cell_type": "code",
     "collapsed": false,
     "input": [
      "X_train, X_test, wine_train, wine_test, = train_test_split(wine, wine.index, test_size=0.3, random_state=42)"
     ],
     "language": "python",
     "metadata": {},
     "outputs": [],
     "prompt_number": 6
    },
    {
     "cell_type": "code",
     "collapsed": false,
     "input": [
      "wine_train"
     ],
     "language": "python",
     "metadata": {},
     "outputs": [
      {
       "metadata": {},
       "output_type": "pyout",
       "prompt_number": 7,
       "text": [
        "array([3, 2, 2, 1, 2, 1, 3, 2, 2, 3, 1, 1, 1, 3, 1, 1, 2, 3, 2, 1, 3, 2, 1,\n",
        "       3, 2, 2, 1, 2, 1, 1, 2, 1, 1, 3, 2, 2, 2, 1, 2, 2, 2, 3, 3, 1, 2, 3,\n",
        "       3, 2, 2, 1, 2, 3, 3, 2, 3, 2, 2, 2, 1, 1, 3, 1, 3, 1, 1, 2, 2, 1, 1,\n",
        "       1, 2, 1, 2, 3, 2, 2, 2, 3, 3, 2, 1, 1, 2, 3, 3, 1, 2, 3, 3, 3, 3, 2,\n",
        "       1, 2, 1, 3, 1, 1, 2, 1, 1, 3, 2, 1, 3, 3, 1, 1, 3, 3, 3, 2, 2, 2, 2,\n",
        "       2, 2, 3, 1, 2, 2, 1, 2, 2], dtype=int64)"
       ]
      }
     ],
     "prompt_number": 7
    },
    {
     "cell_type": "code",
     "collapsed": false,
     "input": [
      "n_neighbors = range(1, 51, 2)\n",
      "scores = []\n",
      "for n in n_neighbors:\n",
      "    clf = neighbors.KNeighborsClassifier(n)\n",
      "    clf.fit(X_train, wine_train)\n",
      "    scores.append(clf.score(X_test, wine_test))"
     ],
     "language": "python",
     "metadata": {},
     "outputs": [],
     "prompt_number": 8
    },
    {
     "cell_type": "code",
     "collapsed": false,
     "input": [
      "plt.figure(figsize=(18,6))\n",
      "_ = plt.plot(n_neighbors, scores, linewidth=3.0)"
     ],
     "language": "python",
     "metadata": {},
     "outputs": [
      {
       "metadata": {},
       "output_type": "display_data",
       "png": "[encoded data removed]",
       "text": [
        "<matplotlib.figure.Figure at 0x19c5b4e0>"
       ]
      }
     ],
     "prompt_number": 9
    },
    {
     "cell_type": "code",
     "collapsed": false,
     "input": [
      "neighbors.KNeighborsClassifier?"
     ],
     "language": "python",
     "metadata": {},
     "outputs": [],
     "prompt_number": 10
    },
    {
     "cell_type": "code",
     "collapsed": false,
     "input": [
      "from sklearn.cross_validation import cross_val_score\n",
      "clf = neighbors.KNeighborsClassifier(30, weights='uniform')\n",
      "scores = cross_val_score(clf, wine, wine.index, cv=5)\n",
      "print scores"
     ],
     "language": "python",
     "metadata": {},
     "outputs": [
      {
       "output_type": "stream",
       "stream": "stdout",
       "text": [
        "[ 0.7027027   0.75        0.61111111  0.74285714  0.79411765]\n"
       ]
      }
     ],
     "prompt_number": 11
    },
    {
     "cell_type": "code",
     "collapsed": false,
     "input": [
      "np.mean(scores)"
     ],
     "language": "python",
     "metadata": {},
     "outputs": [
      {
       "latex": [
        "$$0.720157720746$$"
       ],
       "metadata": {},
       "output_type": "pyout",
       "png": "[encoded data removed]",
       "prompt_number": 12,
       "text": [
        "0.720157720746"
       ]
      }
     ],
     "prompt_number": 12
    },
    {
     "cell_type": "code",
     "collapsed": false,
     "input": [
      "n = np.arange(len(wine.columns))\n",
      "\n",
      "fig = plt.figure(figsize=(18,6))\n",
      "ax = fig.add_subplot(111)\n",
      "\n",
      "ax.bar(n, feature_selection.f_classif(wine, wine.index)[0])\n",
      "\n",
      "xtickNames = ax.set_xticklabels(wine.columns)\n",
      "ax.set_xticks(n)\n",
      "_ = plt.setp(xtickNames, rotation=45, fontsize=16)"
     ],
     "language": "python",
     "metadata": {},
     "outputs": [
      {
       "metadata": {},
       "output_type": "display_data",
       "png": "[encoded data removed]",
       "text": [
        "<matplotlib.figure.Figure at 0x19ff8f98>"
       ]
      }
     ],
     "prompt_number": 13
    },
    {
     "cell_type": "code",
     "collapsed": false,
     "input": [
      "wine2 = wine[['Flavanoids', 'Proline']]"
     ],
     "language": "python",
     "metadata": {},
     "outputs": [],
     "prompt_number": 14
    },
    {
     "cell_type": "code",
     "collapsed": false,
     "input": [
      "clf = neighbors.KNeighborsClassifier(11, weights='uniform')\n",
      "clf.fit(wine2, wine.index)"
     ],
     "language": "python",
     "metadata": {},
     "outputs": [
      {
       "metadata": {},
       "output_type": "pyout",
       "prompt_number": 24,
       "text": [
        "KNeighborsClassifier(algorithm='auto', leaf_size=30, metric='minkowski',\n",
        "           metric_params=None, n_neighbors=11, p=2, weights='uniform')"
       ]
      }
     ],
     "prompt_number": 24
    },
    {
     "cell_type": "code",
     "collapsed": false,
     "input": [
      "h = .2\n",
      "cmap_light = ListedColormap(['#FFAAAA', '#AAFFAA', '#AAAAFF'])\n",
      "cmap_bold = ListedColormap(['#FF0000', '#00FF00', '#0000FF'])"
     ],
     "language": "python",
     "metadata": {},
     "outputs": [],
     "prompt_number": 32
    },
    {
     "cell_type": "code",
     "collapsed": false,
     "input": [
      "x_min, y_min = wine.min()[['Flavanoids', 'Proline']]\n",
      "x_max, y_max = wine.max()[['Flavanoids', 'Proline']]"
     ],
     "language": "python",
     "metadata": {},
     "outputs": [],
     "prompt_number": 33
    },
    {
     "cell_type": "code",
     "collapsed": false,
     "input": [
      "plt.scatter(wine2.Flavanoids, wine2.Proline, c=wine.index, cmap = cmap_bold)"
     ],
     "language": "python",
     "metadata": {},
     "outputs": [
      {
       "metadata": {},
       "output_type": "pyout",
       "prompt_number": 23,
       "text": [
        "<matplotlib.collections.PathCollection at 0x19d9e6d8>"
       ]
      },
      {
       "metadata": {},
       "output_type": "display_data",
       "png": "[encoded data removed]",
       "text": [
        "<matplotlib.figure.Figure at 0x19d8ce10>"
       ]
      }
     ],
     "prompt_number": 23
    },
    {
     "cell_type": "code",
     "collapsed": false,
     "input": [
      "from seaborn import plt, color_palette\n",
      "from scipy.spatial.distance import pdist, squareform\n",
      "from scipy.cluster.hierarchy import linkage, dendrogram\n",
      "from sklearn.preprocessing import scale\n",
      "from sklearn.cluster import AgglomerativeClustering\n",
      "hierarch = AgglomerativeClustering(n_clusters=3, linkage='ward')"
     ],
     "language": "python",
     "metadata": {},
     "outputs": [],
     "prompt_number": 57
    },
    {
     "cell_type": "code",
     "collapsed": false,
     "input": [
      "distwine = squareform(pdist(wine, metric='euclidean'))\n",
      "distwine"
     ],
     "language": "python",
     "metadata": {},
     "outputs": [
      {
       "metadata": {},
       "output_type": "pyout",
       "prompt_number": 58,
       "text": [
        "array([[   0.        ,   31.26501239,  122.83115403, ...,  230.24002302,\n",
        "         225.21518399,  506.05936766],\n",
        "       [  31.26501239,    0.        ,  135.22469301, ...,  216.22123207,\n",
        "         211.21353863,  490.23526821],\n",
        "       [ 122.83115403,  135.22469301,    0.        , ...,  350.57118792,\n",
        "         345.56265177,  625.07017782],\n",
        "       ..., \n",
        "       [ 230.24002302,  216.22123207,  350.57118792, ...,    0.        ,\n",
        "           5.35888981,  276.08601522],\n",
        "       [ 225.21518399,  211.21353863,  345.56265177, ...,    5.35888981,\n",
        "           0.        ,  281.06899242],\n",
        "       [ 506.05936766,  490.23526821,  625.07017782, ...,  276.08601522,\n",
        "         281.06899242,    0.        ]])"
       ]
      }
     ],
     "prompt_number": 58
    },
    {
     "cell_type": "code",
     "collapsed": false,
     "input": [
      "R = dendrogram(linkage(distwine, method='single'), color_threshold=10)\n",
      "\n",
      "plt.xlabel('Features')\n",
      "plt.ylabel('Type')\n",
      "plt.suptitle('Cluster Dendrogram', fontweight='bold', fontsize=14);"
     ],
     "language": "python",
     "metadata": {},
     "outputs": [
      {
       "metadata": {},
       "output_type": "display_data",
       "png": "[encoded data removed]",
       "text": [
        "<matplotlib.figure.Figure at 0x67034a58>"
       ]
      }
     ],
     "prompt_number": 59
    },
    {
     "cell_type": "code",
     "collapsed": false,
     "input": [
      "Y_hat_hier = hierarch.fit(wine).labels_"
     ],
     "language": "python",
     "metadata": {},
     "outputs": [],
     "prompt_number": 60
    },
    {
     "cell_type": "code",
     "collapsed": false,
     "input": [
      "c_hat = [color_palette()[i] for i in Y_hat_hier]\n",
      "plt.scatter(wine[:,0], wine[:,1], c=c_hat);"
     ],
     "language": "python",
     "metadata": {},
     "outputs": [
      {
       "ename": "TypeError",
       "evalue": "unhashable type",
       "output_type": "pyerr",
       "traceback": [
        "\u001b[1;31m---------------------------------------------------------------------------\u001b[0m\n\u001b[1;31mTypeError\u001b[0m                                 Traceback (most recent call last)",
        "\u001b[1;32m<ipython-input-65-02192fd1f95d>\u001b[0m in \u001b[0;36m<module>\u001b[1;34m()\u001b[0m\n\u001b[0;32m      1\u001b[0m \u001b[0mc_hat\u001b[0m \u001b[1;33m=\u001b[0m \u001b[1;33m[\u001b[0m\u001b[0mcolor_palette\u001b[0m\u001b[1;33m(\u001b[0m\u001b[1;33m)\u001b[0m\u001b[1;33m[\u001b[0m\u001b[0mi\u001b[0m\u001b[1;33m]\u001b[0m \u001b[1;32mfor\u001b[0m \u001b[0mi\u001b[0m \u001b[1;32min\u001b[0m \u001b[0mY_hat_hier\u001b[0m\u001b[1;33m]\u001b[0m\u001b[1;33m\u001b[0m\u001b[0m\n\u001b[1;32m----> 2\u001b[1;33m \u001b[0mplt\u001b[0m\u001b[1;33m.\u001b[0m\u001b[0mscatter\u001b[0m\u001b[1;33m(\u001b[0m\u001b[0mwine\u001b[0m\u001b[1;33m[\u001b[0m\u001b[1;33m:\u001b[0m\u001b[1;33m,\u001b[0m\u001b[1;36m0\u001b[0m\u001b[1;33m]\u001b[0m\u001b[1;33m,\u001b[0m \u001b[0mwine\u001b[0m\u001b[1;33m[\u001b[0m\u001b[1;33m:\u001b[0m\u001b[1;33m,\u001b[0m\u001b[1;36m1\u001b[0m\u001b[1;33m]\u001b[0m\u001b[1;33m,\u001b[0m \u001b[0mc\u001b[0m\u001b[1;33m=\u001b[0m\u001b[0mc_hat\u001b[0m\u001b[1;33m)\u001b[0m\u001b[1;33m;\u001b[0m\u001b[1;33m\u001b[0m\u001b[0m\n\u001b[0m",
        "\u001b[1;32mC:\\Users\\Matt\\Anaconda\\lib\\site-packages\\pandas\\core\\frame.pyc\u001b[0m in \u001b[0;36m__getitem__\u001b[1;34m(self, key)\u001b[0m\n\u001b[0;32m   1778\u001b[0m             \u001b[1;32mreturn\u001b[0m \u001b[0mself\u001b[0m\u001b[1;33m.\u001b[0m\u001b[0m_getitem_multilevel\u001b[0m\u001b[1;33m(\u001b[0m\u001b[0mkey\u001b[0m\u001b[1;33m)\u001b[0m\u001b[1;33m\u001b[0m\u001b[0m\n\u001b[0;32m   1779\u001b[0m         \u001b[1;32melse\u001b[0m\u001b[1;33m:\u001b[0m\u001b[1;33m\u001b[0m\u001b[0m\n\u001b[1;32m-> 1780\u001b[1;33m             \u001b[1;32mreturn\u001b[0m \u001b[0mself\u001b[0m\u001b[1;33m.\u001b[0m\u001b[0m_getitem_column\u001b[0m\u001b[1;33m(\u001b[0m\u001b[0mkey\u001b[0m\u001b[1;33m)\u001b[0m\u001b[1;33m\u001b[0m\u001b[0m\n\u001b[0m\u001b[0;32m   1781\u001b[0m \u001b[1;33m\u001b[0m\u001b[0m\n\u001b[0;32m   1782\u001b[0m     \u001b[1;32mdef\u001b[0m \u001b[0m_getitem_column\u001b[0m\u001b[1;33m(\u001b[0m\u001b[0mself\u001b[0m\u001b[1;33m,\u001b[0m \u001b[0mkey\u001b[0m\u001b[1;33m)\u001b[0m\u001b[1;33m:\u001b[0m\u001b[1;33m\u001b[0m\u001b[0m\n",
        "\u001b[1;32mC:\\Users\\Matt\\Anaconda\\lib\\site-packages\\pandas\\core\\frame.pyc\u001b[0m in \u001b[0;36m_getitem_column\u001b[1;34m(self, key)\u001b[0m\n\u001b[0;32m   1785\u001b[0m         \u001b[1;31m# get column\u001b[0m\u001b[1;33m\u001b[0m\u001b[1;33m\u001b[0m\u001b[0m\n\u001b[0;32m   1786\u001b[0m         \u001b[1;32mif\u001b[0m \u001b[0mself\u001b[0m\u001b[1;33m.\u001b[0m\u001b[0mcolumns\u001b[0m\u001b[1;33m.\u001b[0m\u001b[0mis_unique\u001b[0m\u001b[1;33m:\u001b[0m\u001b[1;33m\u001b[0m\u001b[0m\n\u001b[1;32m-> 1787\u001b[1;33m             \u001b[1;32mreturn\u001b[0m \u001b[0mself\u001b[0m\u001b[1;33m.\u001b[0m\u001b[0m_get_item_cache\u001b[0m\u001b[1;33m(\u001b[0m\u001b[0mkey\u001b[0m\u001b[1;33m)\u001b[0m\u001b[1;33m\u001b[0m\u001b[0m\n\u001b[0m\u001b[0;32m   1788\u001b[0m \u001b[1;33m\u001b[0m\u001b[0m\n\u001b[0;32m   1789\u001b[0m         \u001b[1;31m# duplicate columns & possible reduce dimensionaility\u001b[0m\u001b[1;33m\u001b[0m\u001b[1;33m\u001b[0m\u001b[0m\n",
        "\u001b[1;32mC:\\Users\\Matt\\Anaconda\\lib\\site-packages\\pandas\\core\\generic.pyc\u001b[0m in \u001b[0;36m_get_item_cache\u001b[1;34m(self, item)\u001b[0m\n\u001b[0;32m   1064\u001b[0m         \u001b[1;34m\"\"\" return the cached item, item represents a label indexer \"\"\"\u001b[0m\u001b[1;33m\u001b[0m\u001b[0m\n\u001b[0;32m   1065\u001b[0m         \u001b[0mcache\u001b[0m \u001b[1;33m=\u001b[0m \u001b[0mself\u001b[0m\u001b[1;33m.\u001b[0m\u001b[0m_item_cache\u001b[0m\u001b[1;33m\u001b[0m\u001b[0m\n\u001b[1;32m-> 1066\u001b[1;33m         \u001b[0mres\u001b[0m \u001b[1;33m=\u001b[0m \u001b[0mcache\u001b[0m\u001b[1;33m.\u001b[0m\u001b[0mget\u001b[0m\u001b[1;33m(\u001b[0m\u001b[0mitem\u001b[0m\u001b[1;33m)\u001b[0m\u001b[1;33m\u001b[0m\u001b[0m\n\u001b[0m\u001b[0;32m   1067\u001b[0m         \u001b[1;32mif\u001b[0m \u001b[0mres\u001b[0m \u001b[1;32mis\u001b[0m \u001b[0mNone\u001b[0m\u001b[1;33m:\u001b[0m\u001b[1;33m\u001b[0m\u001b[0m\n\u001b[0;32m   1068\u001b[0m             \u001b[0mvalues\u001b[0m \u001b[1;33m=\u001b[0m \u001b[0mself\u001b[0m\u001b[1;33m.\u001b[0m\u001b[0m_data\u001b[0m\u001b[1;33m.\u001b[0m\u001b[0mget\u001b[0m\u001b[1;33m(\u001b[0m\u001b[0mitem\u001b[0m\u001b[1;33m)\u001b[0m\u001b[1;33m\u001b[0m\u001b[0m\n",
        "\u001b[1;31mTypeError\u001b[0m: unhashable type"
       ]
      }
     ],
     "prompt_number": 65
    },
    {
     "cell_type": "code",
     "collapsed": false,
     "input": [],
     "language": "python",
     "metadata": {},
     "outputs": []
    }
   ],
   "metadata": {}
  }
 ]
}