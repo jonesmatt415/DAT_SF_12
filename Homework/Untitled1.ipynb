{
 "metadata": {
  "name": "",
  "signature": "sha256:f67147b8139a399b58b717e1f09732ccc0f849a4c9340419d527d0d289c69961"
 },
 "nbformat": 3,
 "nbformat_minor": 0,
 "worksheets": [
  {
   "cells": [
    {
     "cell_type": "code",
     "collapsed": true,
     "input": [],
     "language": "python",
     "metadata": {},
     "outputs": []
    }
   ],
   "metadata": {}
  }
 ]
}